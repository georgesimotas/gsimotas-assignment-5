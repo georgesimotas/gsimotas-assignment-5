{
  "cells": [
    {
      "cell_type": "code",
      "execution_count": 41,
      "metadata": {
        "id": "uOabw_ahaQx2"
      },
      "outputs": [],
      "source": [
        "import numpy as np\n",
        "import pandas as pd"
      ]
    },
    {
      "cell_type": "code",
      "source": [
        "from google.colab import drive\n",
        "drive.mount('/content/drive')"
      ],
      "metadata": {
        "id": "TO2g4jL7abtS",
        "colab": {
          "base_uri": "https://localhost:8080/"
        },
        "outputId": "feac2c04-e827-486a-e888-ed908371f1d4"
      },
      "execution_count": 42,
      "outputs": [
        {
          "output_type": "stream",
          "name": "stdout",
          "text": [
            "Drive already mounted at /content/drive; to attempt to forcibly remount, call drive.mount(\"/content/drive\", force_remount=True).\n"
          ]
        }
      ]
    },
    {
      "cell_type": "code",
      "source": [],
      "metadata": {
        "id": "oqTdyQvvadx8"
      },
      "execution_count": 42,
      "outputs": []
    },
    {
      "cell_type": "code",
      "execution_count": 43,
      "metadata": {
        "id": "aHOEiy5SaQx3"
      },
      "outputs": [],
      "source": [
        "class KNN:\n",
        "    def __init__(self, k=3, distance_metric='euclidean'):\n",
        "        self.k = k\n",
        "        self.distance_metric = distance_metric\n",
        "        self.X_train = None\n",
        "        self.y_train = None\n",
        "\n",
        "    def fit(self, X, y):\n",
        "        \"\"\"Store the training data and labels\"\"\"\n",
        "        self.X_train = X\n",
        "        self.y_train = y\n",
        "\n",
        "    def compute_distance(self, X1, X2):\n",
        "        \"\"\"Compute the distance between two points using the specified metric\"\"\"\n",
        "        if self.distance_metric == 'euclidean':\n",
        "            diff = X2 - X1\n",
        "            return np.sqrt(np.sum(diff * diff, axis=1))\n",
        "        elif self.distance_metric == 'manhattan':\n",
        "            return np.abs(X2 - X1).sum(axis=1)\n",
        "        else:\n",
        "            raise ValueError(f\"Distance metric '{self.distance_metric}' is not supported\")\n",
        "\n",
        "    def predict(self, X):\n",
        "        \"\"\"Predict the labels for a given set of input data\"\"\"\n",
        "        predictions = np.zeros(X.shape[0])\n",
        "        for idx, row in enumerate(X.values):\n",
        "            predictions[idx] = self._predict_single(row)\n",
        "        return predictions\n",
        "\n",
        "    def _predict_single(self, instance):\n",
        "        \"\"\"Predict the label for a single instance\"\"\"\n",
        "        dists = self.compute_distance(instance, self.X_train.values)\n",
        "        nearest_indices = np.argpartition(dists, self.k)[:self.k]\n",
        "        nearest_labels = self.y_train.iloc[nearest_indices]\n",
        "        return nearest_labels.mean()  # Returning mean as probability of churn\n"
      ]
    },
    {
      "cell_type": "code",
      "execution_count": 44,
      "metadata": {
        "id": "R_I6OjkSaQx3"
      },
      "outputs": [],
      "source": [
        "def preprocess_data(train_path, test_path):\n",
        "    \"\"\"Preprocess the dataset by handling missing values, encoding, and scaling\"\"\"\n",
        "    train_df = pd.read_csv(train_path)\n",
        "    test_df = pd.read_csv(test_path)\n",
        "\n",
        "    # Combine train and test data for consistent processing\n",
        "    combined_df = pd.concat([train_df, test_df], axis=0).reset_index(drop=True)\n",
        "\n",
        "    # Apply one-hot encoding on categorical variables\n",
        "    combined_df = pd.get_dummies(combined_df, columns=['Geography', 'Gender'], drop_first=True)\n",
        "\n",
        "    # Define the features to scale\n",
        "    features = ['CreditScore', 'Age', 'Tenure', 'Balance', 'NumOfProducts', 'HasCrCard',\n",
        "                'IsActiveMember', 'EstimatedSalary'] + \\\n",
        "               [col for col in combined_df.columns if col.startswith('Geography_') or col.startswith('Gender_')]\n",
        "\n",
        "    # Scale the features using standardization\n",
        "    combined_df[features] = (combined_df[features] - combined_df[features].mean()) / combined_df[features].std()\n",
        "\n",
        "    # Split back into train and test sets\n",
        "    X_train = combined_df.loc[:len(train_df)-1, features]\n",
        "    y_train = train_df['Exited']\n",
        "    X_test = combined_df.loc[len(train_df):, features]\n",
        "\n",
        "    return X_train, y_train, X_test\n"
      ]
    },
    {
      "cell_type": "code",
      "execution_count": 45,
      "metadata": {
        "id": "mDwJmYszaQx3"
      },
      "outputs": [],
      "source": [
        "def cross_validate(X, y, knn, n_splits=5):\n",
        "    \"\"\"Perform k-fold cross-validation\"\"\"\n",
        "    np.random.seed(42)\n",
        "    shuffled_indices = np.random.permutation(len(X))\n",
        "    fold_size = len(X) // n_splits\n",
        "    auc_scores = []\n",
        "\n",
        "    for fold_idx in range(n_splits):\n",
        "        val_indices = shuffled_indices[fold_idx * fold_size: (fold_idx + 1) * fold_size]\n",
        "        train_indices = np.setdiff1d(shuffled_indices, val_indices)\n",
        "\n",
        "        X_train_fold = X.iloc[train_indices]\n",
        "        X_val_fold = X.iloc[val_indices]\n",
        "        y_train_fold = y.iloc[train_indices]\n",
        "        y_val_fold = y.iloc[val_indices]\n",
        "\n",
        "        # Fit the KNN model and predict probabilities\n",
        "        knn.fit(X_train_fold, y_train_fold)\n",
        "        y_pred_prob = knn.predict(X_val_fold)\n",
        "\n",
        "        # Compute the AUC score\n",
        "        fold_auc = auc_score(y_val_fold, y_pred_prob)\n",
        "        auc_scores.append(fold_auc)\n",
        "\n",
        "    return auc_scores\n"
      ]
    },
    {
      "cell_type": "code",
      "source": [
        "def auc_score(y_true, y_pred_prob):\n",
        "    \"\"\"Compute the AUC score based on actual labels and predicted probabilities\"\"\"\n",
        "    pos_idx = np.where(y_true == 1)[0]\n",
        "    neg_idx = np.where(y_true == 0)[0]\n",
        "\n",
        "    if len(pos_idx) == 0 or len(neg_idx) == 0:\n",
        "        return 0.5  # Return 0.5 if there are no positive or negative examples\n",
        "\n",
        "    pos_preds = y_pred_prob[pos_idx]\n",
        "    neg_preds = y_pred_prob[neg_idx]\n",
        "\n",
        "    # Count the number of correct rankings (positive predictions greater than negative)\n",
        "    num_correct = np.sum(pos_preds[:, None] > neg_preds)\n",
        "    total_possible = len(pos_idx) * len(neg_idx)\n",
        "\n",
        "    return num_correct / total_possible"
      ],
      "metadata": {
        "id": "AEKXfophJAEE"
      },
      "execution_count": 46,
      "outputs": []
    },
    {
      "cell_type": "code",
      "execution_count": 47,
      "metadata": {
        "id": "KYMVc8xqaQx3",
        "colab": {
          "base_uri": "https://localhost:8080/"
        },
        "outputId": "284a56e0-12c3-430e-e4bc-b9c13f0a75ee"
      },
      "outputs": [
        {
          "output_type": "stream",
          "name": "stdout",
          "text": [
            "Best parameters: k = 21, metric = manhattan, Best score: 0.8851120871203924\n"
          ]
        }
      ],
      "source": [
        "# Load and preprocess data\n",
        "X, y, X_test = preprocess_data('/content/drive/My Drive/CS 506/assignment5/train.csv',\n",
        "                               '/content/drive/My Drive/CS 506/assignment5/test.csv')\n",
        "\n",
        "knn = KNN(k=5, distance_metric='euclidean')\n",
        "\n",
        "# Perform cross-validation\n",
        "cv_scores = cross_validate(X, y, knn)\n",
        "\n",
        "# Hyperparameter tuning\n",
        "distance_options = ['euclidean', 'manhattan']\n",
        "highest_score = 0\n",
        "optimal_params = {}\n",
        "\n",
        "# Tune hyperparameters for k\n",
        "for k_val in range(1,22):\n",
        "    for dist_metric in distance_options:\n",
        "        current_model = KNN(k=k_val, distance_metric=dist_metric)\n",
        "        validation_scores = cross_validate(X, y, current_model)\n",
        "        avg_score = np.mean(validation_scores)\n",
        "\n",
        "        # Update best hyperparameters based on the highest score\n",
        "        if avg_score > highest_score:\n",
        "            highest_score = avg_score\n",
        "            optimal_params = {'k': k_val, 'distance_metric': dist_metric}\n",
        "\n",
        "# Output the best hyperparameters and score\n",
        "print(f\"Best parameters: k = {optimal_params['k']}, metric = {optimal_params['distance_metric']}, Best score: {highest_score}\")\n",
        "\n",
        "# Train on full dataset with optimal hyperparameters and make predictions on test set\n",
        "knn = KNN(**optimal_params)\n",
        "knn.fit(X, y)\n",
        "test_predictions = knn.predict(X_test)\n",
        "\n",
        "# Save test predictions to a CSV file for submission\n",
        "pd.DataFrame({'id': pd.read_csv('/content/drive/My Drive/CS 506/assignment5/test.csv')['id'],\n",
        "              'Exited': test_predictions}).to_csv('/content/drive/My Drive/CS 506/assignment5/submissions.csv', index=False)\n"
      ]
    }
  ],
  "metadata": {
    "kernelspec": {
      "display_name": "cs506",
      "language": "python",
      "name": "python3"
    },
    "language_info": {
      "codemirror_mode": {
        "name": "ipython",
        "version": 3
      },
      "file_extension": ".py",
      "mimetype": "text/x-python",
      "name": "python",
      "nbconvert_exporter": "python",
      "pygments_lexer": "ipython3",
      "version": "3.10.15"
    },
    "colab": {
      "provenance": []
    }
  },
  "nbformat": 4,
  "nbformat_minor": 0
}